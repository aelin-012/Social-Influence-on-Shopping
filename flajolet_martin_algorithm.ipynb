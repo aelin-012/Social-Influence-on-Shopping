{
  "nbformat": 4,
  "nbformat_minor": 0,
  "metadata": {
    "colab": {
      "provenance": []
    },
    "kernelspec": {
      "name": "python3",
      "display_name": "Python 3"
    },
    "language_info": {
      "name": "python"
    }
  },
  "cells": [
    {
      "cell_type": "code",
      "execution_count": null,
      "metadata": {
        "colab": {
          "base_uri": "https://localhost:8080/"
        },
        "id": "AzyFv9aOX9M7",
        "outputId": "2397d454-dbdb-4af1-d112-ed80c51afb0d"
      },
      "outputs": [
        {
          "output_type": "stream",
          "name": "stdout",
          "text": [
            "Estimated distinct elements:\n",
            "Hash 1: 131072\n",
            "Hash 2: 512\n",
            "Hash 3: 1024\n",
            "Hash 4: 16384\n",
            "Hash 5: 256\n"
          ]
        }
      ],
      "source": [
        "import hashlib\n",
        "\n",
        "def trailing_zeros(x):\n",
        "    \"\"\"Counts the number of trailing zeros in the binary representation of a number.\"\"\"\n",
        "    if x == 0:\n",
        "        return 32  # Assuming 32-bit integers\n",
        "    count = 0\n",
        "    while (x & 1) == 0:\n",
        "        x >>= 1\n",
        "        count += 1\n",
        "    return count\n",
        "\n",
        "def flajolet_martin_for_dataset(dataset, num_hashes):\n",
        "    max_trailing_zeros = [0] * num_hashes\n",
        "    for item in dataset:\n",
        "        for i in range(num_hashes):\n",
        "            hash_val = hashlib.md5(str(item).encode() + str(i).encode()).digest()\n",
        "            max_trailing_zeros[i] = max(max_trailing_zeros[i], trailing_zeros(int.from_bytes(hash_val, byteorder='big')))\n",
        "    return [2 ** max_trailing_zero for max_trailing_zero in max_trailing_zeros]\n",
        "\n",
        "# Reading the dataset from a file\n",
        "def read_dataset_from_file(filename):\n",
        "    with open(filename, 'r') as file:\n",
        "        dataset = [line.strip() for line in file]\n",
        "    return dataset\n",
        "\n",
        "# Testing the algorithm with a specific dataset\n",
        "if __name__ == \"__main__\":\n",
        "    dataset_filename = \"/content/sample_data/WhatsgoodlyData-6.csv\"  # Change this to your dataset file name\n",
        "    num_hashes = 5  # Number of hash functions to use\n",
        "\n",
        "    # Read the dataset from the file\n",
        "    dataset = read_dataset_from_file(dataset_filename)\n",
        "\n",
        "    # Apply Flajolet-Martin algorithm\n",
        "    estimations = flajolet_martin_for_dataset(dataset, num_hashes)\n",
        "\n",
        "    print(\"Estimated distinct elements:\")\n",
        "    for i, est in enumerate(estimations):\n",
        "        print(f\"Hash {i + 1}: {est}\")\n"
      ]
    }
  ]
}